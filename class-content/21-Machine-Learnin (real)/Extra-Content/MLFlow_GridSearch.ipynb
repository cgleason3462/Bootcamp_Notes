{
 "cells": [
  {
   "cell_type": "code",
   "execution_count": 1,
   "metadata": {},
   "outputs": [],
   "source": [
    "import warnings\n",
    "warnings.filterwarnings('ignore')"
   ]
  },
  {
   "cell_type": "code",
   "execution_count": 2,
   "metadata": {},
   "outputs": [],
   "source": [
    "import matplotlib.pyplot as plt\n",
    "import numpy as np\n",
    "import pandas as pd"
   ]
  },
  {
   "cell_type": "markdown",
   "metadata": {},
   "source": [
    "# Childhood Respiratory Disease\n",
    "\n",
    "Keywords: polynomial regression, multiple regression.\n",
    "\n",
    "## Description\n",
    "\n",
    "FEV (forced expiratory volume) is an index of pulmonary function that measures the volume of air expelled after one second of constant effort. The data contains determinations of FEV on 654 children ages 6-22 who were seen in the Childhood Respiratory Desease Study in 1980 in East Boston, Massachusetts. The data are part of a larger study to follow the change in pulmonary function over time in children.\n",
    "\n",
    "ID\t - \tID number\n",
    "Age\t - \tyears\n",
    "FEV\t - \tlitres\n",
    "Height\t - \tinches\n",
    "Sex\t - \tMale or Female\n",
    "Smoker\t - \tNon = nonsmoker, Current = current smoker\n",
    "\n",
    "\n",
    "## Source\n",
    "\n",
    "Tager, I. B., Weiss, S. T., Rosner, B., and Speizer, F. E. (1979). Effect of parental cigarette smoking on pulmonary function in children. American Journal of Epidemiology, 110, 15-26.\n",
    "Rosner, B. (1990). Fundamentals of Biostatistics, 3rd Edition. PWS-Kent, Boston, Massachusetts.\n"
   ]
  },
  {
   "cell_type": "code",
   "execution_count": 3,
   "metadata": {},
   "outputs": [
    {
     "data": {
      "text/html": [
       "<div>\n",
       "<style scoped>\n",
       "    .dataframe tbody tr th:only-of-type {\n",
       "        vertical-align: middle;\n",
       "    }\n",
       "\n",
       "    .dataframe tbody tr th {\n",
       "        vertical-align: top;\n",
       "    }\n",
       "\n",
       "    .dataframe thead th {\n",
       "        text-align: right;\n",
       "    }\n",
       "</style>\n",
       "<table border=\"1\" class=\"dataframe\">\n",
       "  <thead>\n",
       "    <tr style=\"text-align: right;\">\n",
       "      <th></th>\n",
       "      <th>Id</th>\n",
       "      <th>Age</th>\n",
       "      <th>FEV</th>\n",
       "      <th>Height</th>\n",
       "      <th>Sex</th>\n",
       "      <th>Smoker</th>\n",
       "    </tr>\n",
       "  </thead>\n",
       "  <tbody>\n",
       "    <tr>\n",
       "      <td>0</td>\n",
       "      <td>301</td>\n",
       "      <td>9</td>\n",
       "      <td>1.708</td>\n",
       "      <td>57.0</td>\n",
       "      <td>Female</td>\n",
       "      <td>Non</td>\n",
       "    </tr>\n",
       "    <tr>\n",
       "      <td>1</td>\n",
       "      <td>451</td>\n",
       "      <td>8</td>\n",
       "      <td>1.724</td>\n",
       "      <td>67.5</td>\n",
       "      <td>Female</td>\n",
       "      <td>Non</td>\n",
       "    </tr>\n",
       "    <tr>\n",
       "      <td>2</td>\n",
       "      <td>501</td>\n",
       "      <td>7</td>\n",
       "      <td>1.720</td>\n",
       "      <td>54.5</td>\n",
       "      <td>Female</td>\n",
       "      <td>Non</td>\n",
       "    </tr>\n",
       "    <tr>\n",
       "      <td>3</td>\n",
       "      <td>642</td>\n",
       "      <td>9</td>\n",
       "      <td>1.558</td>\n",
       "      <td>53.0</td>\n",
       "      <td>Male</td>\n",
       "      <td>Non</td>\n",
       "    </tr>\n",
       "    <tr>\n",
       "      <td>4</td>\n",
       "      <td>901</td>\n",
       "      <td>9</td>\n",
       "      <td>1.895</td>\n",
       "      <td>57.0</td>\n",
       "      <td>Male</td>\n",
       "      <td>Non</td>\n",
       "    </tr>\n",
       "  </tbody>\n",
       "</table>\n",
       "</div>"
      ],
      "text/plain": [
       "    Id  Age    FEV  Height     Sex Smoker\n",
       "0  301    9  1.708    57.0  Female    Non\n",
       "1  451    8  1.724    67.5  Female    Non\n",
       "2  501    7  1.720    54.5  Female    Non\n",
       "3  642    9  1.558    53.0    Male    Non\n",
       "4  901    9  1.895    57.0    Male    Non"
      ]
     },
     "execution_count": 3,
     "metadata": {},
     "output_type": "execute_result"
    }
   ],
   "source": [
    "# Read the csv file into a pandas DataFrame\n",
    "\n",
    "smoking = pd.read_csv('../Resources/smoking.csv')\n",
    "smoking.head()"
   ]
  },
  {
   "cell_type": "code",
   "execution_count": 4,
   "metadata": {},
   "outputs": [],
   "source": [
    "X = smoking[['Age', 'Height', 'Sex', 'Smoker']]\n",
    "y = smoking[[\"FEV\"]]"
   ]
  },
  {
   "cell_type": "code",
   "execution_count": 5,
   "metadata": {},
   "outputs": [],
   "source": [
    "from sklearn.pipeline import make_pipeline\n",
    "from sklearn.linear_model import LinearRegression, ElasticNet, Ridge, Lasso\n",
    "from sklearn.model_selection import train_test_split\n",
    "from sklearn.preprocessing import StandardScaler, OneHotEncoder"
   ]
  },
  {
   "cell_type": "code",
   "execution_count": 6,
   "metadata": {},
   "outputs": [],
   "source": [
    "from sklearn.compose import ColumnTransformer\n",
    "from sklearn.compose import make_column_transformer\n",
    "from sklearn.compose import make_column_selector\n",
    "\n",
    "ct = make_column_transformer(\n",
    "    (StandardScaler(), make_column_selector(dtype_include=np.number)),\n",
    "    (OneHotEncoder(), make_column_selector(dtype_include=object))\n",
    ")"
   ]
  },
  {
   "cell_type": "code",
   "execution_count": 7,
   "metadata": {},
   "outputs": [],
   "source": [
    "# Split the data into training and testing\n",
    "\n",
    "### BEGIN SOLUTION\n",
    "from sklearn.model_selection import train_test_split\n",
    "\n",
    "X_train, X_test, y_train, y_test = train_test_split(X, y, random_state=42)\n",
    "### END SOLUTION"
   ]
  },
  {
   "cell_type": "markdown",
   "metadata": {},
   "source": [
    "## Grid Search or Hyper-Parameter Tuning\n",
    "\n",
    "search for the best parameter value of a model given a range.\n",
    "\n",
    "To leverage MLFlow we can't use the prebuilt `GridSearchCV` class from scikit-learn.\n",
    "\n",
    "Program our own GridSearch"
   ]
  },
  {
   "cell_type": "code",
   "execution_count": null,
   "metadata": {},
   "outputs": [],
   "source": []
  },
  {
   "cell_type": "code",
   "execution_count": 8,
   "metadata": {},
   "outputs": [],
   "source": [
    "import mlflow\n",
    "from concurrent.futures import ThreadPoolExecutor\n",
    "from sklearn.model_selection import KFold\n",
    "from sklearn.metrics import mean_squared_error\n",
    "\n",
    "class CustomGridSearchCV():\n",
    "    \"\"\"\n",
    "    model - scikit-learn model\n",
    "    alpha_params - list of alpha parameter values to try\n",
    "    max_p - max number of cpus to use\n",
    "    \"\"\"\n",
    "    def __init__(self, name, model, X, Y, alpha_params, max_p=4, n_splits=5):\n",
    "        self.name = name\n",
    "        self.model = model\n",
    "        self.X = X\n",
    "        self.Y = Y\n",
    "        self.alpha_params = alpha_params\n",
    "        self.max_p = max_p\n",
    "        self.n_splits = n_splits\n",
    "        self.k_fold = KFold(n_splits=5, random_state=42)\n",
    "        self.tracking_client = mlflow.tracking.MlflowClient()\n",
    "    \n",
    "    def quantify(self, model, train, test):\n",
    "        test_MSE = mean_squared_error(self.Y.iloc[test], model.predict(self.X.iloc[test]))\n",
    "        test_r2 = model.score(self.X.iloc[test], self.Y.iloc[test])\n",
    "        train_MSE = mean_squared_error(self.Y.iloc[train], model.predict(self.X.iloc[train]))\n",
    "        train_r2 = model.score(self.X.iloc[train], self.Y.iloc[train])\n",
    "        return {\"test_MSE\": test_MSE, \"test_r2\": test_r2, \"train_MSE\": train_MSE, \"train_r2\": train_r2}\n",
    "    \n",
    "    def run_one(self, experiment_id):\n",
    "        \n",
    "        def func(alpha_param):\n",
    "            mse_list, r2_list = ([], [])\n",
    "            for i, (train, test) in enumerate(self.k_fold.split(self.X, self.Y)):\n",
    "                run_name = f\"K = {i+1}\"\n",
    "                with mlflow.start_run(nested=True, run_name=run_name) as child_run:\n",
    "                    child_run_id = child_run.info.run_id\n",
    "                    model = self.model\n",
    "                    key = f\"{name.lower()}__alpha\"\n",
    "                    model = model.set_params(**{key: alpha_param})\n",
    "                model.fit(self.X.iloc[train], self.Y.iloc[train])\n",
    "                metrics = self.quantify(model, train, test)\n",
    "                self.tracking_client.log_metric(child_run_id, \"MSE\", metrics[\"train_MSE\"])\n",
    "                self.tracking_client.log_metric(child_run_id, \"R2\", metrics[\"train_r2\"])\n",
    "                mse_list.append(metrics[\"train_MSE\"])\n",
    "                r2_list.append(metrics[\"train_r2\"])\n",
    "            mlflow.log_params({\"name\": self.name,\"alpha\": alpha_param,\"alpha_name\": f\"{self.name} alpha={alpha_param}\"})\n",
    "            mlflow.log_metric(\"MSE\", np.mean(mse_list))\n",
    "            mlflow.log_metric(\"R2\", np.mean(r2_list))\n",
    "            return \n",
    "        \n",
    "        return func\n",
    "    \n",
    "    def run_all(self):\n",
    "        for alpha_param in alpha_params:\n",
    "            run_name = f\"{self.name} - alpha={alpha_param}\"\n",
    "            with mlflow.start_run(run_name=run_name) as run:\n",
    "                experiment_id = run.info.experiment_id\n",
    "                self.run_one(experiment_id)(alpha_param)"
   ]
  },
  {
   "cell_type": "code",
   "execution_count": 9,
   "metadata": {},
   "outputs": [],
   "source": [
    "lr_models = [LinearRegression(), ElasticNet(), Ridge(), Lasso()]\n",
    "alpha_params = [0.0001, 0.001, 0.01, 0.1, 1.0, 10.0]\n",
    "for model in lr_models:\n",
    "    name = type(model).__name__\n",
    "    if name.lower() == \"linearregression\":\n",
    "        continue\n",
    "    model = make_pipeline(ct, model)\n",
    "    grid = CustomGridSearchCV(name, model, X, y, alpha_params, max_p=4, n_splits=5)\n",
    "    grid.run_all()"
   ]
  },
  {
   "cell_type": "code",
   "execution_count": null,
   "metadata": {},
   "outputs": [],
   "source": []
  }
 ],
 "metadata": {
  "kernelspec": {
   "display_name": "Python 3",
   "language": "python",
   "name": "python3"
  },
  "language_info": {
   "codemirror_mode": {
    "name": "ipython",
    "version": 3
   },
   "file_extension": ".py",
   "mimetype": "text/x-python",
   "name": "python",
   "nbconvert_exporter": "python",
   "pygments_lexer": "ipython3",
   "version": "3.6.7"
  }
 },
 "nbformat": 4,
 "nbformat_minor": 2
}
