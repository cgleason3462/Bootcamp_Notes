{
 "cells": [
  {
   "cell_type": "code",
   "execution_count": 21,
   "metadata": {},
   "outputs": [],
   "source": [
    "# Dependencies\n",
    "import os\n",
    "from bs4 import BeautifulSoup as bs"
   ]
  },
  {
   "cell_type": "code",
   "execution_count": 22,
   "metadata": {},
   "outputs": [],
   "source": [
    "# Read HTML from file\n",
    "filepath = os.path.join(\"..\", \"Resources\", \"template.html\")\n",
    "with open(filepath) as file:\n",
    "    html = file.read()"
   ]
  },
  {
   "cell_type": "code",
   "execution_count": 23,
   "metadata": {},
   "outputs": [
    {
     "data": {
      "text/plain": [
       "bs4.BeautifulSoup"
      ]
     },
     "execution_count": 23,
     "metadata": {},
     "output_type": "execute_result"
    }
   ],
   "source": [
    "# Create a Beautiful Soup object\n",
    "soup = bs(html, 'html.parser')\n",
    "type(soup)"
   ]
  },
  {
   "cell_type": "code",
   "execution_count": 24,
   "metadata": {},
   "outputs": [
    {
     "name": "stdout",
     "output_type": "stream",
     "text": [
      "Top Ten Stories From 1996\n"
     ]
    }
   ],
   "source": [
    "# Extract title text\n",
    "title = soup.title.text\n",
    "print(title)"
   ]
  },
  {
   "cell_type": "code",
   "execution_count": 28,
   "metadata": {},
   "outputs": [
    {
     "name": "stdout",
     "output_type": "stream",
     "text": [
      "\n",
      "\n",
      "\n",
      "\n",
      "\n",
      "\n",
      "\n",
      "\n",
      "What were the biggest stories of the year?\n",
      "\n",
      "It's a question journalists like to ask themselves at the end of every\n",
      "            year. Now you can join in the process. Here are our selections for the top ten news\n",
      "            stories of 1996.\n",
      "\n",
      "            Disagree with our choices? Then tell us what stories you think were most compelling\n",
      "            in the poll below.\n",
      "\n",
      "\n",
      "\n",
      "What makes a big\n",
      "            story BIG?\n",
      "\n",
      "It depends on your criteria, of course, and your perspective. That's why we offered\n",
      "            a poll to find out what you think.\n",
      "For our list, we polled producers throughout the CNN/Pathfinder family of networks\n",
      "            and publications, and weighed such criteria as a story's long-term implications,\n",
      "            geopolitical significance, user interest, amount of coverage, and old-fashioned newsworthiness.\n",
      "            All these things help make a \"big\" story big.\n",
      "By no means do we think our lists are the final word. Even our polls among CNN\n",
      "            producers turned up a wide variety of responses. The process is meant to encourage\n",
      "            you to reconsider the stories that dominated the media during the past year and determine\n",
      "            for yourself which were mere sensations and which were truly significant.\n",
      "            \n",
      "\n",
      "It depends on your criteria, of course, and your perspective. That's why we offered\n",
      "            a poll to find out what you think.\n",
      "For our list, we polled producers throughout the CNN/Pathfinder family of networks\n",
      "            and publications, and weighed such criteria as a story's long-term implications,\n",
      "            geopolitical significance, user interest, amount of coverage, and old-fashioned newsworthiness.\n",
      "            All these things help make a \"big\" story big.\n",
      "By no means do we think our lists are the final word. Even our polls among CNN\n",
      "            producers turned up a wide variety of responses. The process is meant to encourage\n",
      "            you to reconsider the stories that dominated the media during the past year and determine\n",
      "            for yourself which were mere sensations and which were truly significant.\n",
      "            \n",
      "© 1996 Cable News Network, Inc.\n",
      "All Rights Reserved.\n"
     ]
    }
   ],
   "source": [
    "# Print all paragraph texts\n",
    "paragraphs = soup.find_all('p')\n",
    "for p in paragraphs:\n",
    "    print(p.text)"
   ]
  },
  {
   "cell_type": "code",
   "execution_count": 30,
   "metadata": {},
   "outputs": [
    {
     "name": "stdout",
     "output_type": "stream",
     "text": [
      "[<td><img align=\"TOP\" height=\"60\" src=\"logos.gif\" width=\"112\"/></td>, <td><img align=\"TOP\" height=\"60\" src=\"banner.gif\" width=\"360\"/></td>, <td rowspan=\"11\" valign=\"TOP\" width=\"90\">\n",
      "<p align=\"RIGHT\"><b><tt>What were the biggest stories of the year?</tt></b><br/>\n",
      "<br/>\n",
      "<font size=\"2\">It's a question journalists like to ask themselves at the end of every\n",
      "            year. Now you can join in the process. Here are our selections for the top ten news\n",
      "            stories of 1996.<br/>\n",
      "<br/>\n",
      "            Disagree with our choices? Then tell us what stories you think were most compelling\n",
      "            in the poll below.</font>\n",
      "</p></td>, <td rowspan=\"11\" width=\"4\"></td>, <td rowspan=\"11\" valign=\"MIDDLE\"><img align=\"MIDDLE\" height=\"250\" src=\"generic/dot.gif\" width=\"1\"/></td>, <td rowspan=\"11\" width=\"10\"></td>, <td colspan=\"4\" valign=\"TOP\">\n",
      "<p align=\"CENTER\"><img align=\"MIDDLE\" height=\"24\" src=\"generic/topten.gif\" vspace=\"5\" width=\"263\"/>\n",
      "</p></td>, <td><a href=\"topten/israel/israel.index.html\" target=\"_top\"><img align=\"MIDDLE\" border=\"0\" height=\"17\" src=\"generic/1.gif\" width=\"17\"/></a></td>, <td><a href=\"topten/israel/israel.index.html\" target=\"_top\"><b>Israel</b> elects <b>Netanyahu</b></a></td>, <td><a href=\"topten/twa/twa.index.html\" target=\"_top\"><img align=\"MIDDLE\" border=\"0\" height=\"17\" src=\"generic/2.gif\" width=\"17\"/></a></td>, <td><a href=\"topten/twa/twa.index.html\" target=\"_top\">Crash of TWA Flight 800</a></td>, <td><a href=\"topten/yeltsin/yeltsin.index.html\" target=\"_top\"><img align=\"MIDDLE\" border=\"0\" height=\"17\" src=\"generic/3.gif\" width=\"17\"/></a></td>, <td><a href=\"topten/yeltsin/yeltsin.index.html\" target=\"_top\"><b>Russia</b> elects <b>Yeltsin</b></a></td>, <td><a href=\"topten/clinton/clinton.index.html\" target=\"_top\"><img align=\"MIDDLE\" border=\"0\" height=\"17\" src=\"generic/4.gif\" width=\"17\"/></a></td>, <td><a href=\"topten/clinton/clinton.index.html\" target=\"_top\"><b>U.S</b>. elects <b>Clinton</b></a></td>, <td><a href=\"topten/hutu/hutu.index.html\" target=\"_top\"><img align=\"MIDDLE\" border=\"0\" height=\"17\" src=\"generic/5.gif\" width=\"17\"/></a></td>, <td><a href=\"topten/hutu/hutu.index.html\" target=\"_top\"><b>Hutu-Tutsi</b> conflict in central Africa</a></td>, <td><a href=\"topten/bosnia/bosnia.index.html\" target=\"_top\"><img align=\"MIDDLE\" border=\"0\" height=\"17\" src=\"generic/6.gif\" width=\"17\"/></a></td>, <td><a href=\"topten/bosnia/bosnia.index.html\" target=\"_top\">Peace, elections in <b>Bosnia</b></a></td>, <td><a href=\"topten/saudi/saudi.index.html\" target=\"_top\"><img align=\"MIDDLE\" border=\"0\" height=\"17\" src=\"generic/7.gif\" width=\"17\"/></a></td>, <td><a href=\"topten/saudi/saudi.index.html\" target=\"_top\"><b>U.S</b>. base bombed in <b>Saudi Arabia</b></a></td>, <td><a href=\"topten/olympics/olympics.index.html\" target=\"_top\"><img align=\"MIDDLE\" border=\"0\" height=\"17\" src=\"generic/8.gif\" width=\"17\"/></a></td>, <td><a href=\"topten/olympics/olympics.index.html\" target=\"_top\">Centennial <b>Olympic</b> Games</a></td>, <td><a href=\"topten/aids/aids.index.html\" target=\"_top\"><img align=\"MIDDLE\" border=\"0\" height=\"17\" src=\"generic/9.gif\" width=\"17\"/></a></td>, <td><a href=\"topten/aids/aids.index.html\" target=\"_top\">Advances against <b>AIDS</b></a></td>, <td><a href=\"topten/unabomb/unabomb.index.html\" target=\"_top\"><img align=\"MIDDLE\" border=\"0\" height=\"17\" src=\"generic/10.gif\" width=\"17\"/></a></td>, <td><a href=\"topten/unabomb/unabomb.index.html\" target=\"_top\"><b>Unabomb</b> suspect <b>Ted Kaczynski</b> arrested</a></td>, <td>\n",
      "<center><a href=\"topten/poll.html\" target=\"_top\"><img align=\"MIDDLE\" border=\"0\" height=\"60\" src=\"poll.gif\" width=\"120\"/></a></center></td>, <td>\n",
      "<center><a href=\"http://www-cgi.cnn.com/cgi-bin/quiz/yir_main/go.pl/main\" target=\"_top\"><img align=\"MIDDLE\" border=\"0\" height=\"60\" src=\"quiz.gif\" width=\"120\"/></a></center></td>, <td colspan=\"2\"><center><a href=\"http://www-cgi.cnn.com/cgi-bin/poll/heavypoll.pl?slug=9612%2Fyir_top_10\" target=\"_top\">The top 10 stories according to our users</a></center></td>, <td width=\"100%\">\n",
      "<p><b><tt>What makes a </tt></b><font size=\"5\"><tt><b>big</b></tt></font><tt><b>\n",
      "            story </b></tt><font size=\"5\"><tt><b>BIG?</b></tt></font>\n",
      "<blockquote>\n",
      "<p>It depends on your criteria, of course, and your perspective. That's why we offered\n",
      "            a poll to find out what you think.</p>\n",
      "<p>For our list, we polled producers throughout the CNN/Pathfinder family of networks\n",
      "            and publications, and weighed such criteria as a story's long-term implications,\n",
      "            geopolitical significance, user interest, amount of coverage, and old-fashioned newsworthiness.\n",
      "            All these things help make a \"big\" story big.</p>\n",
      "<p>By no means do we think our lists are the final word. Even our polls among CNN\n",
      "            producers turned up a wide variety of responses. The process is meant to encourage\n",
      "            you to reconsider the stories that dominated the media during the past year and determine\n",
      "            for yourself which were mere sensations and which were truly significant.\n",
      "            </p></blockquote>\n",
      "</p></td>, <td align=\"CENTER\"><img alt=\"What you think\" border=\"0\" height=\"59\" src=\"what_you_think.gif\" width=\"60\"/></td>, <td><strong><a href=\"/feedback/index.html\" name=\"_top\">Tell us what you think</a></strong><br/><br/>\n",
      "<strong><a href=\"/feedback/comments.html\" name=\"_top\">You said it...</a></strong></td>]\n"
     ]
    }
   ],
   "source": [
    "# Print all ten headlines\n",
    "tds = soup.find_all('td')\n",
    "print(tds)"
   ]
  },
  {
   "cell_type": "code",
   "execution_count": null,
   "metadata": {},
   "outputs": [],
   "source": [
    "# Print only the headlines\n"
   ]
  }
 ],
 "metadata": {
  "kernelspec": {
   "display_name": "Python 3",
   "language": "python",
   "name": "python3"
  },
  "language_info": {
   "codemirror_mode": {
    "name": "ipython",
    "version": 3
   },
   "file_extension": ".py",
   "mimetype": "text/x-python",
   "name": "python",
   "nbconvert_exporter": "python",
   "pygments_lexer": "ipython3",
   "version": "3.7.6"
  },
  "varInspector": {
   "cols": {
    "lenName": 16,
    "lenType": 16,
    "lenVar": 40
   },
   "kernels_config": {
    "python": {
     "delete_cmd_postfix": "",
     "delete_cmd_prefix": "del ",
     "library": "var_list.py",
     "varRefreshCmd": "print(var_dic_list())"
    },
    "r": {
     "delete_cmd_postfix": ") ",
     "delete_cmd_prefix": "rm(",
     "library": "var_list.r",
     "varRefreshCmd": "cat(var_dic_list()) "
    }
   },
   "types_to_exclude": [
    "module",
    "function",
    "builtin_function_or_method",
    "instance",
    "_Feature"
   ],
   "window_display": false
  }
 },
 "nbformat": 4,
 "nbformat_minor": 2
}
